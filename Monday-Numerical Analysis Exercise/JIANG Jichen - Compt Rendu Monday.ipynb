{
 "cells": [
  {
   "cell_type": "markdown",
   "metadata": {},
   "source": [
    "# <center> Lab 1: Roots Finding<br> <small> 8 April 2019</small> </center>\n",
    "\n",
    "In many applications we are required to find the roots of equations, that is solve an equation of the form $f(x) = 0$.\n",
    "Note that solving $f(x) = g(x)$ is equivalent to solving $h(x) = 0$, where $h(x) = f(x) - g(x)$.\n",
    "We can easily solve linear equations: $ax + b = 0 \\Longrightarrow x = -b/a$.\n",
    "Also we can solve quadratic equations: $ax^2 + bx + c = 0 \\Longrightarrow x = \\frac{-b \\pm \\sqrt{b^2 - 4ac}}{2a}$.\n",
    "There is a similar formula for cubics, called Cardano's formula, and another one for quartic equations.\n",
    "\n",
    "However one of the great achievements of 19th century mathematics was the proof, by Evariste Galois (1811 - 1832), that there is no similar formula for any polynomial of degree 5 or above.\n",
    "This leads to a problem: How are we to find roots of higher order polynomials?\n",
    "In addition this says nothing about more complex equations than polynomials. For example, Find the roots of $f(x) = x\\ln(x)-3$.\n",
    "\n",
    "The unique solution to find the roots in these cases is to use numerical methods. These approaches use iterative algorithms that converge to the desired solution. This result is an approximation of the exact root."
   ]
  },
  {
   "cell_type": "markdown",
   "metadata": {},
   "source": [
    "# Bisection Method: \n",
    "The bisection method is the simplest of the root finding methods. When given this problem from scratch this is the method that most people come up with.\n",
    "\n",
    "The bisection method relies on the Intermediate Value Theorem:\n",
    "\n",
    "If $f$ is continuous on the closed interval $[a,b]$ and $N$ is any number between $f(a)$ and $f(b)$, then there exists a number $c$ in the open interval $]a,b[$ such that $f(c) = N$.\n",
    "\n",
    "Since the method relies on this theorem it requires that $f$ be continuous on some interval near the root.\n",
    "\n",
    "### Algorithm:\n",
    "\n",
    "Pick $a$ and $b$ such that $f(a)f(b) < 0$ and $f$ is continuous from $a$ to $b$.\n",
    "Repeat:\n",
    "    let $d := \\frac{a+b}{2}$\n",
    "    If $f(a) f(d) < 0$,\n",
    "        Let $b := d.$\n",
    "    Else if $f(b) f(d) > 0$,\n",
    "        Let $a := d$.\n",
    "until $\\|b-a| \\le \\epsilon$\n",
    "\n",
    "Return $\\frac{a+b}{2}$"
   ]
  },
  {
   "cell_type": "markdown",
   "metadata": {},
   "source": [
    "1- Write the function bisect(a, b, ep, max_iterate, f)?"
   ]
  },
  {
   "cell_type": "code",
   "execution_count": 19,
   "metadata": {},
   "outputs": [],
   "source": [
    "'''\n",
    "The function f is defined below by the user. The function f is\n",
    "    to be continuous on the interval [a, b], and it is to be of\n",
    "    opposite signs at a and b.  The quantity ep is the error\n",
    "    tolerance.  The routine guarantees this as an error bound\n",
    "    provided: \n",
    "    (1) the restrictions on the initial interval are correct, and \n",
    "    (2) ep is not too small when the machine epsilon is taken into account.\n",
    "    Most of these conditions are not checked in the program!  \n",
    "    The parameter max_iterate is an upper limit on the number of \n",
    "    iterates to be computed.\n",
    "    \n",
    "    the function return the value the root and number of iterations used \n",
    "    to find this solution.\n",
    "    \n",
    "    (root, nbIter) = bisect(1, 1.5, 1.0E-6, 10, lambda x: x**6 - x - 1)\n",
    "'''\n",
    "    \n",
    "def bisect(a, b, ep, max_iterate, f):\n",
    "\n",
    "    left = f(a)\n",
    "    right = f(b)\n",
    "    count = 0\n",
    "\n",
    "    if left*right > 0:\n",
    "        print(\"No solution!\")\n",
    "        return False\n",
    "    if left == 0:\n",
    "        print(\"A Solution is: \", a)\n",
    "    if right == 0:\n",
    "        print(\"A Solution is: \", b)\n",
    "\n",
    "    while abs(b - a) > ep and count < max_iterate:\n",
    "        mid = (a + b)/2.0\n",
    "        m = f(mid)\n",
    "        if m == 0:\n",
    "            print(\"A Solution is \", mid)\n",
    "            return mid\n",
    "        elif left * m < 0:\n",
    "            b = mid\n",
    "            count += 1\n",
    "            print(count,mid)\n",
    "        else:\n",
    "            m * right > 0\n",
    "            a = mid\n",
    "            count += 1\n",
    "            print(count,mid)\n",
    "    return mid\n",
    "\n"
   ]
  },
  {
   "cell_type": "markdown",
   "metadata": {},
   "source": [
    "2- Test your function to find the roots of this two functions :\n",
    "\n",
    "- $f(x) = x^6 - x -1$\n",
    "\n",
    "- $f(x) = x - e^{-x}$"
   ]
  },
  {
   "cell_type": "code",
   "execution_count": 22,
   "metadata": {},
   "outputs": [
    {
     "name": "stdout",
     "output_type": "stream",
     "text": [
      "1 1.25\n",
      "2 1.125\n",
      "3 1.1875\n",
      "4 1.15625\n",
      "5 1.140625\n",
      "6 1.1328125\n",
      "7 1.13671875\n",
      "8 1.134765625\n",
      "9 1.1337890625\n",
      "10 1.13427734375\n",
      "11 1.134521484375\n",
      "12 1.1346435546875\n",
      "13 1.13470458984375\n",
      "14 1.134735107421875\n",
      "15 1.1347198486328125\n",
      "16 1.1347274780273438\n",
      "17 1.1347236633300781\n",
      "18 1.134725570678711\n",
      "19 1.1347246170043945\n",
      "20 1.1347241401672363\n",
      "Result is  1.1347241401672363\n",
      "1 0.25\n",
      "2 0.875\n",
      "3 0.5625\n",
      "4 0.71875\n",
      "5 0.640625\n",
      "6 0.6015625\n",
      "7 0.58203125\n",
      "8 0.572265625\n",
      "9 0.5673828125\n",
      "10 0.56494140625\n",
      "11 0.566162109375\n",
      "12 0.5667724609375\n",
      "13 0.56707763671875\n",
      "14 0.567230224609375\n",
      "15 0.5671539306640625\n",
      "16 0.5671157836914062\n",
      "17 0.5671348571777344\n",
      "18 0.5671443939208984\n",
      "19 0.5671396255493164\n",
      "20 0.5671420097351074\n",
      "Result is  0.5671420097351074\n"
     ]
    }
   ],
   "source": [
    "f = lambda x: x**6 - x - 1\n",
    "val = bisect(1, 1.5, 0.000000001, 20, f)\n",
    "print(\"Result is \", val)\n",
    "\n",
    "import math\n",
    "f = lambda x: x - math.e**(-x)\n",
    "val = bisect(-1, 1.5, 0.000000001, 20, f)\n",
    "print(\"Result is \", val)"
   ]
  },
  {
   "cell_type": "code",
   "execution_count": null,
   "metadata": {},
   "outputs": [],
   "source": []
  },
  {
   "cell_type": "markdown",
   "metadata": {},
   "source": [
    "# Newton's Method\n",
    "\n",
    "The bisection method is useful only up to a point. In order to get good accuracy we must do a relatively large number of iterations. This is even more of a problem if many roots are to be found. A much better algorithm is Newton's method.\n",
    "\n",
    "The idea of Newton's method is to make an initial guess, $a_0$, close to the root.\n",
    "The point where the tangent line to $f$ at $a_0$ meets the $x$ axis is our next approximation, $a_1$.\n",
    "We then repeat as needed.\n",
    "\n",
    "### Itertive formula:\n",
    "$$ a_{n+1} = a_n - \\frac{f(a)}{f'(a)} $$\n",
    "\n",
    "### Approximation Error\n",
    "\n",
    "The Approximation Error for Newton's method is fairly hard to prove and involves the second derivative of the function $f$.\n",
    "$$E_{n+1} = \\frac{1}{2} g\"(u) E_n^2$$\n",
    "where $u$ is some point between the real root and the approximation and $g(x) = x - \\frac{f(x)}{f'(x)}$.\n",
    "This shows that in Newton's method the error decreases quadratically, rather than linearly as with the Bisection method ($E_{n+1} =\\frac{E_n}{2}$).\n",
    "Unfortunately this error bound is not much use for practical purposes. A much more useful way of estimating the error is that it can be shown that the difference between successive approximations is greater than the error. Thus\n",
    "$E_{n+1} < |a_{n+1} - a_n|$\n",
    "Note that $|a_{n+1} - a_n| = \\left|\\frac{f(a_n)}{f'(a_n)}\\right|$\n",
    "\n",
    "Thus we may continue iterating until the difference between successive approximations, $|a_{n+1} - a_n|$, is less than the required value.\n",
    "\n"
   ]
  },
  {
   "cell_type": "markdown",
   "metadata": {},
   "source": [
    "1- Write the function newton(a0, errorBd, maxIter, f)?"
   ]
  },
  {
   "cell_type": "code",
   "execution_count": 24,
   "metadata": {},
   "outputs": [],
   "source": [
    "def newton(a0, errorBd, maxIter, f, df):\n",
    "    '''\n",
    "    This is Newton's method for solving an equation f(x) = 0.\n",
    "\n",
    "    The functions f(x) and derivf(x) are given by the user.\n",
    "    The parameter errorBd is used in the error test for the\n",
    "    accuracy of each iterate.  \n",
    "    The parameter maxIter is an upper limit on the number of \n",
    "    iterations to be computed.  \n",
    "    \n",
    "    An initial guess a0 must also be given.\n",
    "    \n",
    "    For the given function f(x), an example of a calling sequence\n",
    "    might be the following:\n",
    "    (root, nbIter) = newton(1,1.0E-12,10,lambda x: x**6 - x - 1, \n",
    "    lambda x: 6 * x ** 5 - 1)\n",
    "    '''\n",
    "    \n",
    "    count = 0\n",
    "    while errorBd < abs(f(a0)/df(a0)):\n",
    "        a1 = a0 - f(a0)/df(a0)\n",
    "        a0 = a1\n",
    "        count += 1\n",
    "        print(count, a1)\n",
    "    return a1\n",
    " "
   ]
  },
  {
   "cell_type": "markdown",
   "metadata": {},
   "source": [
    "2- Test your function to find the roots of this two functions :\n",
    "\n",
    "- $f(x) = x^6 - x -1$\n",
    "\n",
    "- $f(x) = x - e^{-x}$"
   ]
  },
  {
   "cell_type": "code",
   "execution_count": 27,
   "metadata": {},
   "outputs": [
    {
     "name": "stdout",
     "output_type": "stream",
     "text": [
      "1 1.2\n",
      "2 1.1435758425030438\n",
      "3 1.1349094622420859\n",
      "4 1.1347242213865578\n",
      "5 1.134724138401536\n",
      "Result is  1.134724138401536\n",
      "1 0.5378828427399902\n",
      "2 0.5669869914054133\n",
      "3 0.567143285989123\n",
      "4 0.5671432904097838\n",
      "Result is  0.5671432904097838\n"
     ]
    }
   ],
   "source": [
    "f = lambda x: x**6 - x - 1\n",
    "df = lambda x: 6 * x ** 5 - 1\n",
    "val = newton(1, 0.0000000001, 20, f, df)\n",
    "print(\"Result is \", val)\n",
    "\n",
    "f = lambda x: x - math.e ** (-x)\n",
    "df = lambda x: 1 + math.e ** (-x)\n",
    "val = newton(1, 0.0000000001, 20, f, df)\n",
    "print(\"Result is \", val)"
   ]
  },
  {
   "cell_type": "markdown",
   "metadata": {},
   "source": [
    "# Fixed Point Iteration\n",
    "Newton's method is actually a special case of what is generally known as a fixed point method. These methods rely on the Fixed point Theorem:\n",
    "\n",
    "If $g(x)$ and $g'(x)$ are continuous on an interval containing a root of the equation $g(x) = x$, and if $|g'(x)| < 1$ for all $x$ in the interval then the series $x_{n+1} = g(x_n)$ will converge to the root.\n",
    "\n",
    "In Newton's method we take $g(x) = x - \\frac{f(x)}{f'(x)}. In this case $f(x) = 0$ is equivalent to $g(x) = x$.\n",
    "However we are not restiricted to this choice of $g$.\n",
    "\n",
    "If $c$ is a root of $f$, then $f(c) = 0$. We can manipulate $f$ algebraicaly to produce a function $g$ such that $g(c) = c$ ($c$ is a fixed point of $g$).\n",
    "\n",
    "For example if $f(x) = x^2 - x - 2$, then by solving $f(x) = 0$ in different ways, the following are all possible choices for $g(x)$:\n",
    "- $g(x) = x^2 - 2$,\n",
    "- $g(x) = \\sqrt{2 + x}$,\n",
    "- $g(x) = 1 + \\frac{2}{x}$.\n",
    "- $g(x) = x - (x^2 - x - 2)$.\n",
    "- $g(x) = x - \\frac{x^2 - x - 2}{2x - 1}$.\n",
    "\n",
    "See if you can derive each of these.\n",
    "\n",
    "Provided that $|g'(x)| < 1$ the sequence generated by\n",
    "$$a_{n+1} = g(a_n)$$\n",
    "will converge to the root.\n",
    "\n",
    "### Approximation Error\n",
    "It can be shown that the error of the method is given by\n",
    "$$E_{n+1} = |g'(x)| E_n$$\n",
    "Where $x$ is some point between $a_n$ and the root.\n",
    "\n",
    "The condition that $|g'(x)| < 1$ can be difficult to show, and even more difficult to automate.\n",
    "\n",
    "A much more useful technique is to check if the difference of successive approximations is converging.\n",
    "Thus we test $|a_{n+1} - a_n|$ on each iteration.\n",
    "If $|a_{n} - a_{n-1}| > |a_{n-1} - a_{n-2}| $ we should abort the iteration."
   ]
  },
  {
   "cell_type": "markdown",
   "metadata": {},
   "source": [
    "1- Write the function fixedpoint(a0, errorBd, maxIter, g)?"
   ]
  },
  {
   "cell_type": "code",
   "execution_count": 5,
   "metadata": {},
   "outputs": [
    {
     "name": "stdout",
     "output_type": "stream",
     "text": [
      "1 1.284925475710208 1.252441295442369 0.03248418026783906\n",
      "2 1.2878249327566202 1.284925475710208 0.002899457046412257\n",
      "3 1.2880690105986177 1.2878249327566202 0.00024407784199742544\n",
      "4 1.2880894467172153 1.2880690105986177 2.043611859758876e-05\n",
      "5 1.2880911570113243 1.2880894467172153 1.71029410900303e-06\n",
      "6 1.2880913001399925 1.2880911570113243 1.431286682507249e-07\n",
      "7 1.2880913121179034 1.2880913001399925 1.1977910885363485e-08\n",
      "8 1.2880913131202902 1.2880913121179034 1.0023868401987102e-09\n",
      "9 1.2880913132041765 1.2880913131202902 8.388623129462758e-11\n"
     ]
    }
   ],
   "source": [
    "import math\n",
    "g = lambda x: 1 + .3 * math. sin(x)\n",
    "def fixedpoint(a0, errorBd, maxIter, g):\n",
    "    '''\n",
    "    This implements the fixed point iteration method for solving an\n",
    "    equation g(x) = x. \n",
    "    \n",
    "    The parameter maxIter is an upper limit on the number of iterations \n",
    "    to be computed.\n",
    "    One initial guesses a0 must also be given.\n",
    "    \n",
    "    For the given function g(x), an example of a calling sequence\n",
    "    might be the following:\n",
    "    (root, nbIter) = fixedpoint(1, 1E-3, 6, lambda x: 1 + .3 * sin(x))    \n",
    "    '''\n",
    "    count = 0\n",
    "    temp = a0\n",
    "    an = g(a0)\n",
    "    error = an-temp\n",
    "    while (error > errorBd) and (count < maxIter):\n",
    "        temp = an\n",
    "        an = g(an)\n",
    "        count += 1\n",
    "        error = abs(an-temp)\n",
    "        print(count, an, temp, error)\n",
    "    return an\n",
    "\n",
    "val = fixedpoint(1, 0.0000000001, 20, g)"
   ]
  },
  {
   "cell_type": "markdown",
   "metadata": {},
   "source": [
    "# Secant method\n",
    "The secant method requires two initial approximations $a_0$ and $a_1$, preferably both reasonably close to the exact solution. From $a_0$ and $a_1$ we can determine that the points $(a_0, f(a_0))$ and $(a_1, f(a_1))$ both lie on the graph of $f$. Connecting these points gives the (secant) line defined by:\n",
    "$$y − f(a_1) = \\frac{f(a_1) − f(a_0)}{a_1 − a_0} (x − a_0)$$\n",
    "Since we want f(x) = 0, we set y = 0, solve for x, and use that as our next approximation. \n",
    "\n",
    "Repeating this process gives us the iteration\n",
    "$$a_{n+1} = a_n − \\frac{a_n - a_{n-1}}{f(a_n) - f(a_{n-1})} f(a_n)$$"
   ]
  },
  {
   "cell_type": "markdown",
   "metadata": {},
   "source": [
    "1- Write the function secant(a0, a1, errorBd, maxIter, f)?"
   ]
  },
  {
   "cell_type": "code",
   "execution_count": 28,
   "metadata": {},
   "outputs": [
    {
     "name": "stdout",
     "output_type": "stream",
     "text": [
      "1 1.0505529225908372\n",
      "2 1.0836270749201495\n",
      "3 1.1471872399321152\n",
      "4 1.1331108681839832\n",
      "5 1.134676186313533\n",
      "6 1.1347243257923487\n",
      "7 1.1347241383797966\n",
      "8 1.1347241384015194\n",
      "Result is  1.1347241384015194\n",
      "1 0.5097935139798969\n",
      "2 0.5755512342623644\n",
      "3 0.56723119310885\n",
      "4 0.5671431568476528\n",
      "5 0.5671432904119083\n",
      "6 0.5671432904097838\n",
      "Result is  0.5671432904097838\n"
     ]
    }
   ],
   "source": [
    "def secant(a0, a1, errorBd, maxIter, f):\n",
    "    '''\n",
    "    This implements the secant method for solving an\n",
    "    equation f(x) = 0.\n",
    "    \n",
    "    The parameter errorBd is used in the error test for the\n",
    "    accuracy of each iterate.  \n",
    "    The parameter maxIter is an upper limit on the number of \n",
    "    iterations to be computed. \n",
    "    Two initial guesses, a0 and a1, must also be given.\n",
    "    \n",
    "    For the given function f(x), an example of a calling sequence\n",
    "    might be the following:\n",
    "     (root, nbIter) = secant(x0, x1, 1E-12, 10, lambda x: x**6 - x - 1)  \n",
    "    '''\n",
    "    count = 0\n",
    "    while abs(a1 - a0) > errorBd and count < maxIter :\n",
    "        a2 = a1 - ((a1 - a0)/(f(a1) - f(a0))) * f(a1)\n",
    "        a0 = a1\n",
    "        a1 = a2\n",
    "        count += 1\n",
    "        print(count, a2)\n",
    "    return a2\n",
    "\n",
    "f = lambda x: x**6 - x - 1\n",
    "val = secant(1, 1.5, 0.0000000001, 20, f)\n",
    "print(\"Result is \", val)\n",
    "\n",
    "f = lambda x: x - math.e ** (-x)\n",
    "val = secant(1, 1.5, 0.0000000001, 20, f)\n",
    "print(\"Result is \", val)"
   ]
  },
  {
   "cell_type": "markdown",
   "metadata": {},
   "source": [
    "# Comparison\n",
    "\n",
    "Consider the function $f(x) = x^5 − x^4 + x − 1$:\n",
    "\n",
    "1- Use the Bisection method to approximate the root to within an error tolerance of $10^{−6}$ with the following initial intervals: $[0, 3]$, $[0.5, 2.0]$, $[0.9, 1.2]$. In doing so, make a table of values which includes the approximation, error (what is the true root anyway?), and number of iterations (use a maximum of 100 iterations). Then answer the following questions:\n",
    "\n",
    "   - Why does the second interval need exactly one fewer iteration?\n",
    "\n",
    "   - Is there any advantage to having the root in the center of the interval, or is it better to instead be nearer to an endpoint?"
   ]
  },
  {
   "cell_type": "code",
   "execution_count": 3,
   "metadata": {},
   "outputs": [
    {
     "data": {
      "text/plain": [
       "'\\nFor [0,3] , 22 Iterations and the result is 0.9999997615814209\\nFor [0.5,2.0] , 21 Iterations and the result is 1.000000238418579\\nFor [0.9,1.2], 19 Iterations and the result is 1.0000001907348635\\n\\nThe range of the second interval is smaller than the first one, so basicly, we need less iterations to get \\nto the accurate value.\\n\\nIn the center of the interval is better, since the important value in the algorithm is \"mid\", so once the value of mid\\nis close to the root, the less interation it will take\\n'"
      ]
     },
     "execution_count": 3,
     "metadata": {},
     "output_type": "execute_result"
    }
   ],
   "source": [
    "'''\n",
    "For [0,3] , 22 Iterations and the result is 0.9999997615814209\n",
    "For [0.5,2.0] , 21 Iterations and the result is 1.000000238418579\n",
    "For [0.9,1.2], 19 Iterations and the result is 1.0000001907348635\n",
    "\n",
    "The range of the second interval is smaller than the first one, so basicly, we need less iterations to get \n",
    "to the accurate value.\n",
    "\n",
    "In the center of the interval is better, since the important value in the algorithm is \"mid\", so once the value of mid\n",
    "is close to the root, the less interation it will take\n",
    "'''"
   ]
  },
  {
   "cell_type": "markdown",
   "metadata": {},
   "source": [
    "2- Use Newton’s method to approximate the root to within an error tolerance of $10^{−6}$ with the following initial iterates: $−100$, $0$, $.9$, $0.99$, $1.1$, $1.4$, $1000000$. In doing so, make a table of values which includes the approximation, error, and number of iterations. Then answer the following questions:\n",
    "\n",
    "   - How does Newton compare to Bisection for efficiency when the initial iterate is close to the true root?\n",
    "    \n",
    "   - Why are the errors less than $10^{−12}$ if we only asked for $10^{−6}$?\n",
    "    \n",
    "   - Without running Bisection, how many iterations would it take if the interval were $[−1000000, 1000000]$ and $\\epsilon = 1.3 \\times 10^{−12}$? Compare to Newton’s result from $a_0 = 1000000$."
   ]
  },
  {
   "cell_type": "code",
   "execution_count": null,
   "metadata": {},
   "outputs": [],
   "source": [
    "\"\"\"\n",
    "Initial Iterates: -100, 27 iterations, \n",
    "                     0, 1  iterations,\n",
    "                   0.9, 4  iterations,\n",
    "                  0.99, 2  iterations,\n",
    "                   1.1, 3  iterations,\n",
    "                   1.4, 5  iterations,\n",
    "               1000000, 66 iterations.\n",
    "               \n",
    "When the initial iterate is close to the true root, the number of iterations decrease.\n",
    "\n",
    "\n",
    "When we calculate the distance, we use the square to calculate the function, so when (x^-6) have a square, we will\n",
    "get the (x^-12)\n",
    "\n",
    "The Newton's method will take more iterations than the Bisection method, cause the converge of the both method are different.\n",
    "The Bisection will be divided by two, but the Newton's method will converge according to the distance.\n",
    "\"\"\""
   ]
  },
  {
   "cell_type": "markdown",
   "metadata": {},
   "source": [
    "3- Use the Secant method to approximate the root to within an error tolerance of $10^{−6}$ with the following initial iterates: $[a_0, a_1] = [0, 3], [0.5, 2.0], [0.9, 1.2]$. In doing so, make a table of values which includes the approximation, error, and number of iterations. Then answer the following questions:\n",
    "\n",
    "   - How does this method compare to Newton and Bisection for efficiency when the initial iterate is close to the true root?\n",
    "   - Does the distance between the initial iterates affect the number of iterations required as directly as does the size of the initial interval in Bisection?"
   ]
  },
  {
   "cell_type": "code",
   "execution_count": null,
   "metadata": {},
   "outputs": [],
   "source": [
    "\"\"\"\n",
    "For [0,3], 7 iterations,\n",
    "For [0.5,2.0], 11 iterations,\n",
    "For [0.9,1.2], 7 iterations,\n",
    "For [0.9,1.1], 11 iterations.\n",
    "\n",
    "Compare to Newton and Bisection method, when the initial iterate is close to the true root, the efficieny of the\n",
    "Secant method is not as good as the other two methods.\n",
    "\n",
    "No, as the above examples, the range [0,3] and the range [0.9,1.2] have the same numbers of iterations, even their\n",
    "distance are totally different. The [0.9,1.1] takes even more itrations than the longer one.\n",
    "\n",
    "\"\"\""
   ]
  },
  {
   "cell_type": "markdown",
   "metadata": {},
   "source": [
    "# Python Functions\n",
    "In Scipy library you can use the function <A Href=https://docs.scipy.org/doc/scipy/reference/generated/scipy.optimize.root_scalar.html#scipy.optimize.root_scalar> root_scalar</A> to find the roots of a function. Read the manual of this function and try to use it to test the result of your implementation."
   ]
  },
  {
   "cell_type": "code",
   "execution_count": 7,
   "metadata": {},
   "outputs": [],
   "source": [
    "from scipy import optimize\n",
    "def f(x):\n",
    "    return (x**3 - 1)"
   ]
  },
  {
   "cell_type": "code",
   "execution_count": null,
   "metadata": {},
   "outputs": [],
   "source": []
  }
 ],
 "metadata": {
  "kernelspec": {
   "display_name": "Python 3",
   "language": "python",
   "name": "python3"
  },
  "language_info": {
   "codemirror_mode": {
    "name": "ipython",
    "version": 3
   },
   "file_extension": ".py",
   "mimetype": "text/x-python",
   "name": "python",
   "nbconvert_exporter": "python",
   "pygments_lexer": "ipython3",
   "version": "3.7.3"
  }
 },
 "nbformat": 4,
 "nbformat_minor": 2
}
