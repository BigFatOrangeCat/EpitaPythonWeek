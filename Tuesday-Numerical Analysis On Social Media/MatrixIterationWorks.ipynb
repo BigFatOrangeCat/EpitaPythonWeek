{
 "cells": [
  {
   "cell_type": "code",
   "execution_count": 1,
   "metadata": {},
   "outputs": [
    {
     "name": "stdout",
     "output_type": "stream",
     "text": [
      "Requirement already satisfied: networkx in /usr/local/lib/python3.7/site-packages (2.2)\r\n",
      "Requirement already satisfied: decorator>=4.3.0 in /usr/local/lib/python3.7/site-packages (from networkx) (4.4.0)\r\n"
     ]
    }
   ],
   "source": [
    "'''\n",
    "Install networkx\n",
    "'''\n",
    "!pip3 install networkx"
   ]
  },
  {
   "cell_type": "code",
   "execution_count": 2,
   "metadata": {},
   "outputs": [],
   "source": [
    "'''\n",
    "Play with networkx\n",
    "'''\n",
    "import networkx as nx\n",
    "G = nx.Graph()\n",
    "G.add_node(1)\n",
    "G.add_nodes_from([2, 3])\n",
    "H = nx.path_graph(10)\n",
    "G.add_nodes_from(H)\n",
    "G.add_node(H)\n",
    "nx.draw(G)"
   ]
  },
  {
   "cell_type": "code",
   "execution_count": 3,
   "metadata": {},
   "outputs": [],
   "source": [
    "G.clear()"
   ]
  },
  {
   "cell_type": "code",
   "execution_count": 4,
   "metadata": {},
   "outputs": [
    {
     "name": "stderr",
     "output_type": "stream",
     "text": [
      "/Users/jichenjiang/anaconda3/lib/python3.7/site-packages/networkx/drawing/nx_pylab.py:611: MatplotlibDeprecationWarning: isinstance(..., numbers.Number)\n",
      "  if cb.is_numlike(alpha):\n"
     ]
    },
    {
     "data": {
      "image/png": "[encoded data removed]",
      "text/plain": [
       "<Figure size 432x288 with 1 Axes>"
      ]
     },
     "metadata": {},
     "output_type": "display_data"
    }
   ],
   "source": [
    "'''\n",
    "Add Edges\n",
    "'''\n",
    "import networkx as nx\n",
    "G = nx.Graph()\n",
    "G.add_node(1)\n",
    "G.add_nodes_from([2, 3])\n",
    "H = nx.path_graph(10)\n",
    "G.add_nodes_from(H)\n",
    "G.add_node(H)\n",
    "nx.draw(G)\n",
    "G.add_edge(1, 2)\n",
    "e = (2, 3)\n",
    "G.add_edge(*e)\n",
    "G.add_edges_from([(1, 2), (1, 3)])\n",
    "G.add_edges_from(H.edges)\n",
    "nx.draw(G)"
   ]
  },
  {
   "cell_type": "code",
   "execution_count": 5,
   "metadata": {},
   "outputs": [],
   "source": [
    "G.clear()"
   ]
  },
  {
   "cell_type": "code",
   "execution_count": 6,
   "metadata": {
    "scrolled": true
   },
   "outputs": [
    {
     "data": {
      "image/png": "[encoded data removed]",
      "text/plain": [
       "<Figure size 432x288 with 1 Axes>"
      ]
     },
     "metadata": {},
     "output_type": "display_data"
    }
   ],
   "source": [
    "G.add_edges_from([(1, 2), (1, 3)])\n",
    "G.add_node(1)\n",
    "G.add_edge(1, 2)\n",
    "G.add_node(\"spam\")        # adds node \"spam\"\n",
    "G.add_nodes_from(\"spam\")  # adds 4 nodes: 's', 'p', 'a', 'm'\n",
    "G.add_edge(3, 'm')\n",
    "nx.draw(G)"
   ]
  },
  {
   "cell_type": "code",
   "execution_count": 7,
   "metadata": {},
   "outputs": [
    {
     "data": {
      "text/plain": [
       "'\\nTest One\\n'"
      ]
     },
     "execution_count": 7,
     "metadata": {},
     "output_type": "execute_result"
    }
   ],
   "source": [
    "'''\n",
    "Test One\n",
    "'''"
   ]
  },
  {
   "cell_type": "code",
   "execution_count": 8,
   "metadata": {},
   "outputs": [
    {
     "data": {
      "image/png": "[encoded data removed]",
      "text/plain": [
       "<Figure size 432x288 with 1 Axes>"
      ]
     },
     "metadata": {},
     "output_type": "display_data"
    }
   ],
   "source": [
    "G.clear()\n",
    "import networkx as nx\n",
    "G = nx.Graph()\n",
    "G.add_edges_from([(1, 2), (1, 3)])\n",
    "G.add_node(1)\n",
    "G.add_edge(1, 2)\n",
    "G.add_node(\"spam\")        # adds node \"spam\"\n",
    "G.add_nodes_from(\"spam\")  # adds 4 nodes: 's', 'p', 'a', 'm'\n",
    "G.add_edge(3, 'm')\n",
    "nx.draw(G)\n",
    "\n",
    "#G.number_of_nodes()\n",
    "\n",
    "#G.number_of_edges()"
   ]
  },
  {
   "cell_type": "code",
   "execution_count": 9,
   "metadata": {},
   "outputs": [
    {
     "data": {
      "text/plain": [
       "'\\nTest Two\\n'"
      ]
     },
     "execution_count": 9,
     "metadata": {},
     "output_type": "execute_result"
    }
   ],
   "source": [
    "'''\n",
    "Test Two\n",
    "'''"
   ]
  },
  {
   "cell_type": "code",
   "execution_count": 10,
   "metadata": {},
   "outputs": [
    {
     "data": {
      "text/plain": [
       "<dict_itemiterator at 0xa1cdc6408>"
      ]
     },
     "execution_count": 10,
     "metadata": {},
     "output_type": "execute_result"
    },
    {
     "data": {
      "image/png": "[encoded data removed]",
      "text/plain": [
       "<Figure size 432x288 with 1 Axes>"
      ]
     },
     "metadata": {},
     "output_type": "display_data"
    }
   ],
   "source": [
    "G.clear()\n",
    "import networkx as nx\n",
    "G = nx.Graph()\n",
    "G.add_node(1)\n",
    "G.add_node(\"epita\")\n",
    "G.add_nodes_from(\"epita\")\n",
    "G.add_edge(1,\"epita\")\n",
    "G.add_edge(\"epita\",\"e\")\n",
    "G.add_edge(1, 3)\n",
    "G.add_edge(1, 2)\n",
    "G[1][3]['color'] = \"blue\"\n",
    "G.edges[1, 2]['color'] = \"red\"\n",
    "nx.draw(G)\n",
    "G.adjacency()"
   ]
  },
  {
   "cell_type": "code",
   "execution_count": 11,
   "metadata": {},
   "outputs": [
    {
     "data": {
      "text/plain": [
       "'\\nNode attributes\\n'"
      ]
     },
     "execution_count": 11,
     "metadata": {},
     "output_type": "execute_result"
    }
   ],
   "source": [
    "'''\n",
    "Node attributes\n",
    "'''"
   ]
  },
  {
   "cell_type": "code",
   "execution_count": 12,
   "metadata": {},
   "outputs": [
    {
     "data": {
      "text/plain": [
       "NodeDataView({1: {'time': '5pm', 'room': 714}, 3: {'time': '2pm'}})"
      ]
     },
     "execution_count": 12,
     "metadata": {},
     "output_type": "execute_result"
    }
   ],
   "source": [
    "G.clear()\n",
    "import networkx as nx\n",
    "G = nx.Graph()\n",
    "G.add_node(1, time='5pm')\n",
    "G.add_nodes_from([3], time='2pm')\n",
    "#G.nodes[1]\n",
    "G.nodes[1]['room'] = 714\n",
    "G.nodes.data()"
   ]
  },
  {
   "cell_type": "code",
   "execution_count": 13,
   "metadata": {},
   "outputs": [
    {
     "data": {
      "text/plain": [
       "'\\nDirected graphs\\n'"
      ]
     },
     "execution_count": 13,
     "metadata": {},
     "output_type": "execute_result"
    }
   ],
   "source": [
    "'''\n",
    "Directed graphs\n",
    "'''"
   ]
  },
  {
   "cell_type": "code",
   "execution_count": 14,
   "metadata": {},
   "outputs": [
    {
     "ename": "NameError",
     "evalue": "name 'DG' is not defined",
     "output_type": "error",
     "traceback": [
      "\u001b[0;31m---------------------------------------------------------------------------\u001b[0m",
      "\u001b[0;31mNameError\u001b[0m                                 Traceback (most recent call last)",
      "\u001b[0;32m<ipython-input-14-37047cbda3f4>\u001b[0m in \u001b[0;36m<module>\u001b[0;34m\u001b[0m\n\u001b[0;32m----> 1\u001b[0;31m \u001b[0mDG\u001b[0m\u001b[0;34m.\u001b[0m\u001b[0mclear\u001b[0m\u001b[0;34m(\u001b[0m\u001b[0;34m)\u001b[0m\u001b[0;34m\u001b[0m\u001b[0;34m\u001b[0m\u001b[0m\n\u001b[0m\u001b[1;32m      2\u001b[0m \u001b[0;32mimport\u001b[0m \u001b[0mnetworkx\u001b[0m \u001b[0;32mas\u001b[0m \u001b[0mnx\u001b[0m\u001b[0;34m\u001b[0m\u001b[0;34m\u001b[0m\u001b[0m\n\u001b[1;32m      3\u001b[0m \u001b[0mDG\u001b[0m \u001b[0;34m=\u001b[0m \u001b[0mnx\u001b[0m\u001b[0;34m.\u001b[0m\u001b[0mDiGraph\u001b[0m\u001b[0;34m(\u001b[0m\u001b[0;34m)\u001b[0m\u001b[0;34m\u001b[0m\u001b[0;34m\u001b[0m\u001b[0m\n\u001b[1;32m      4\u001b[0m \u001b[0mDG\u001b[0m\u001b[0;34m.\u001b[0m\u001b[0madd_weighted_edges_from\u001b[0m\u001b[0;34m(\u001b[0m\u001b[0;34m[\u001b[0m\u001b[0;34m(\u001b[0m\u001b[0;36m1\u001b[0m\u001b[0;34m,\u001b[0m \u001b[0;36m2\u001b[0m\u001b[0;34m,\u001b[0m \u001b[0;36m0.5\u001b[0m\u001b[0;34m)\u001b[0m\u001b[0;34m,\u001b[0m \u001b[0;34m(\u001b[0m\u001b[0;36m3\u001b[0m\u001b[0;34m,\u001b[0m \u001b[0;36m1\u001b[0m\u001b[0;34m,\u001b[0m \u001b[0;36m0.75\u001b[0m\u001b[0;34m)\u001b[0m\u001b[0;34m]\u001b[0m\u001b[0;34m)\u001b[0m\u001b[0;34m\u001b[0m\u001b[0;34m\u001b[0m\u001b[0m\n",
      "\u001b[0;31mNameError\u001b[0m: name 'DG' is not defined"
     ]
    }
   ],
   "source": [
    "DG.clear()\n",
    "import networkx as nx\n",
    "DG = nx.DiGraph()\n",
    "DG.add_weighted_edges_from([(1, 2, 0.5), (3, 1, 0.75)])"
   ]
  },
  {
   "cell_type": "code",
   "execution_count": null,
   "metadata": {},
   "outputs": [],
   "source": [
    "'''\n",
    "Drawing graphs\n",
    "'''"
   ]
  },
  {
   "cell_type": "code",
   "execution_count": null,
   "metadata": {},
   "outputs": [],
   "source": [
    "import matplotlib.pyplot as plt\n",
    "G = nx.petersen_graph()\n",
    "plt.subplot(121)\n",
    "nx.draw(G, with_labels=True, font_weight='bold')\n",
    "plt.subplot(122)\n",
    "nx.draw_shell(G, nlist=[range(5, 10), range(5)], with_labels=True, font_weight='bold')\n",
    "plt.show()"
   ]
  },
  {
   "cell_type": "code",
   "execution_count": null,
   "metadata": {},
   "outputs": [],
   "source": [
    "'''\n",
    "1. Max Degree Matrix\n",
    "'''"
   ]
  },
  {
   "cell_type": "code",
   "execution_count": 76,
   "metadata": {},
   "outputs": [
    {
     "name": "stdout",
     "output_type": "stream",
     "text": [
      "The c value is  0.2\n",
      "The wii values are  [0.8, 0.0, 0.6, 0.3999999999999999, 0.6, 0.8, 0.8, 0.3999999999999999, 0.8]\n",
      "The Premade Diagonal Matrix W is\n",
      " [[0.8 0.  0.  0.  0.  0.  0.  0.  0. ]\n",
      " [0.  0.  0.  0.  0.  0.  0.  0.  0. ]\n",
      " [0.  0.  0.6 0.  0.  0.  0.  0.  0. ]\n",
      " [0.  0.  0.  0.4 0.  0.  0.  0.  0. ]\n",
      " [0.  0.  0.  0.  0.6 0.  0.  0.  0. ]\n",
      " [0.  0.  0.  0.  0.  0.8 0.  0.  0. ]\n",
      " [0.  0.  0.  0.  0.  0.  0.8 0.  0. ]\n",
      " [0.  0.  0.  0.  0.  0.  0.  0.4 0. ]\n",
      " [0.  0.  0.  0.  0.  0.  0.  0.  0.8]]\n",
      "The Matrix W is\n",
      " [[0.8 0.2 0.2 0.2 0.2 0.2 0.2 0.2 0.2]\n",
      " [0.2 0.  0.2 0.2 0.2 0.2 0.2 0.2 0.2]\n",
      " [0.2 0.2 0.6 0.2 0.2 0.2 0.2 0.2 0.2]\n",
      " [0.2 0.2 0.2 0.4 0.2 0.2 0.2 0.2 0.2]\n",
      " [0.2 0.2 0.2 0.2 0.6 0.2 0.2 0.2 0.2]\n",
      " [0.2 0.2 0.2 0.2 0.2 0.8 0.2 0.2 0.2]\n",
      " [0.2 0.2 0.2 0.2 0.2 0.2 0.8 0.2 0.2]\n",
      " [0.2 0.2 0.2 0.2 0.2 0.2 0.2 0.4 0.2]\n",
      " [0.2 0.2 0.2 0.2 0.2 0.2 0.2 0.2 0.8]]\n",
      "The Matrix A is\n",
      " [[0 1 0 0 0 0 0 0 0 0]\n",
      " [1 0 1 1 1 0 1 0 0 0]\n",
      " [0 1 0 0 0 1 0 0 0 0]\n",
      " [0 1 0 0 1 0 0 1 0 0]\n",
      " [0 1 0 1 0 0 0 0 0 0]\n",
      " [0 0 1 0 0 0 0 0 0 0]\n",
      " [0 1 0 0 0 0 0 0 0 0]\n",
      " [0 0 0 1 0 0 0 0 1 1]\n",
      " [0 0 0 0 0 0 0 1 0 0]\n",
      " [0 0 0 0 0 0 0 1 0 0]]\n"
     ]
    },
    {
     "data": {
      "image/png": "[encoded data removed]",
      "text/plain": [
       "<Figure size 432x288 with 1 Axes>"
      ]
     },
     "metadata": {},
     "output_type": "display_data"
    }
   ],
   "source": [
    "G.clear()\n",
    "from numpy import *\n",
    "import numpy as np\n",
    "import networkx as nx\n",
    "H = nx.path_graph(10)\n",
    "G.add_nodes_from(H)\n",
    "#G.add_edges_from(H.edges())\n",
    "G.add_edges_from([(1, 2), (1, 3), (3, 4), (1, 4), (2, 5), (1, 6), (7, 8), (7, 9), (3, 7), (0, 1)])\n",
    "nx.draw(G)\n",
    "num = G.number_of_nodes()\n",
    "degrees = []\n",
    "for i in range(0, num):\n",
    "    #c = 1 / (max(G.degree(i)))\n",
    "    degrees.append(G.degree(i))\n",
    "max_val = max(degrees)\n",
    "c = 1 / max_val\n",
    "print (\"The c value is \", c)\n",
    "\n",
    "wii = []\n",
    "for j in range(0, num):\n",
    "    di = G.degree(j)\n",
    "    w = 1 - c * di\n",
    "    wii.append(w)\n",
    "print (\"The wii values are \", wii)\n",
    "\n",
    "#W = mat(wii); \n",
    "#W = np.zeros((10, 10), int)\n",
    "#np.fill_diagonal(W, wii)\n",
    "#W\n",
    "\n",
    "W = mat(diag(wii));\n",
    "print (\"The Premade Diagonal Matrix W is\\n\", W)\n",
    "\n",
    "shape = W.shape\n",
    "for x in range(0, shape[0]):\n",
    "    for y in range(0, shape[1]):\n",
    "        if W[x, y] == 0 and x != y:\n",
    "            W[x, y] = c\n",
    "print (\"The Matrix W is\\n\", W)\n",
    "\n",
    "A = nx.adjacency_matrix(G)\n",
    "#A = np.zeros((10, 10), int)\n",
    "A = A.todense()\n",
    "print (\"The Matrix A is\\n\", A)"
   ]
  },
  {
   "cell_type": "code",
   "execution_count": null,
   "metadata": {},
   "outputs": [],
   "source": [
    "'''\n",
    "Mastropolis-Hasting Matrix\n",
    "'''"
   ]
  },
  {
   "cell_type": "code",
   "execution_count": 122,
   "metadata": {},
   "outputs": [
    {
     "name": "stdout",
     "output_type": "stream",
     "text": [
      "The Values of Wij are: \n",
      " [[1.         0.2        0.5        0.33333333 0.5        1.\n",
      "  1.         0.33333333 1.         1.        ]\n",
      " [0.2        0.2        0.2        0.2        0.2        0.2\n",
      "  0.2        0.2        0.2        0.2       ]\n",
      " [0.5        0.2        0.5        0.33333333 0.5        0.5\n",
      "  0.5        0.33333333 0.5        0.5       ]\n",
      " [0.33333333 0.2        0.33333333 0.33333333 0.33333333 0.33333333\n",
      "  0.33333333 0.33333333 0.33333333 0.33333333]\n",
      " [0.5        0.2        0.5        0.33333333 0.5        0.5\n",
      "  0.5        0.33333333 0.5        0.5       ]\n",
      " [1.         0.2        0.5        0.33333333 0.5        1.\n",
      "  1.         0.33333333 1.         1.        ]\n",
      " [1.         0.2        0.5        0.33333333 0.5        1.\n",
      "  1.         0.33333333 1.         1.        ]\n",
      " [0.33333333 0.2        0.33333333 0.33333333 0.33333333 0.33333333\n",
      "  0.33333333 0.33333333 0.33333333 0.33333333]\n",
      " [1.         0.2        0.5        0.33333333 0.5        1.\n",
      "  1.         0.33333333 1.         1.        ]\n",
      " [1.         0.2        0.5        0.33333333 0.5        1.\n",
      "  1.         0.33333333 1.         1.        ]]\n",
      "The Values of Wii are: \n",
      " [ -4.86666667  -6.66666667 -10.53333333 -13.4        -17.26666667\n",
      " -23.13333333 -29.         -31.86666667 -37.73333333 -43.6       ]\n",
      "The Premade Diagonal Matrix W is\n",
      " [[ -4.86666667   0.           0.           0.           0.\n",
      "    0.           0.           0.           0.           0.        ]\n",
      " [  0.          -6.66666667   0.           0.           0.\n",
      "    0.           0.           0.           0.           0.        ]\n",
      " [  0.           0.         -10.53333333   0.           0.\n",
      "    0.           0.           0.           0.           0.        ]\n",
      " [  0.           0.           0.         -13.4          0.\n",
      "    0.           0.           0.           0.           0.        ]\n",
      " [  0.           0.           0.           0.         -17.26666667\n",
      "    0.           0.           0.           0.           0.        ]\n",
      " [  0.           0.           0.           0.           0.\n",
      "  -23.13333333   0.           0.           0.           0.        ]\n",
      " [  0.           0.           0.           0.           0.\n",
      "    0.         -29.           0.           0.           0.        ]\n",
      " [  0.           0.           0.           0.           0.\n",
      "    0.           0.         -31.86666667   0.           0.        ]\n",
      " [  0.           0.           0.           0.           0.\n",
      "    0.           0.           0.         -37.73333333   0.        ]\n",
      " [  0.           0.           0.           0.           0.\n",
      "    0.           0.           0.           0.         -43.6       ]]\n",
      "The Matrix W is\n",
      " [[ -4.86666667   0.2          0.5          0.33333333   0.5\n",
      "    1.           1.           0.33333333   1.           1.        ]\n",
      " [  0.2         -6.66666667   0.2          0.2          0.2\n",
      "    0.2          0.2          0.2          0.2          0.2       ]\n",
      " [  0.5          0.2        -10.53333333   0.33333333   0.5\n",
      "    0.5          0.5          0.33333333   0.5          0.5       ]\n",
      " [  0.33333333   0.2          0.33333333 -13.4          0.33333333\n",
      "    0.33333333   0.33333333   0.33333333   0.33333333   0.33333333]\n",
      " [  0.5          0.2          0.5          0.33333333 -17.26666667\n",
      "    0.5          0.5          0.33333333   0.5          0.5       ]\n",
      " [  1.           0.2          0.5          0.33333333   0.5\n",
      "  -23.13333333   1.           0.33333333   1.           1.        ]\n",
      " [  1.           0.2          0.5          0.33333333   0.5\n",
      "    1.         -29.           0.33333333   1.           1.        ]\n",
      " [  0.33333333   0.2          0.33333333   0.33333333   0.33333333\n",
      "    0.33333333   0.33333333 -31.86666667   0.33333333   0.33333333]\n",
      " [  1.           0.2          0.5          0.33333333   0.5\n",
      "    1.           1.           0.33333333 -37.73333333   1.        ]\n",
      " [  1.           0.2          0.5          0.33333333   0.5\n",
      "    1.           1.           0.33333333   1.         -43.6       ]]\n"
     ]
    },
    {
     "data": {
      "image/png": "[encoded data removed]",
      "text/plain": [
       "<Figure size 432x288 with 1 Axes>"
      ]
     },
     "metadata": {},
     "output_type": "display_data"
    }
   ],
   "source": [
    "G.clear()\n",
    "from nltk.classify.megam import numpy\n",
    "from numpy import *\n",
    "import numpy as np\n",
    "import networkx as nx\n",
    "H = nx.path_graph(10)\n",
    "G.add_nodes_from(H)\n",
    "#G.add_edges_from(H.edges())\n",
    "G.add_edges_from([(1, 2), (1, 3), (3, 4), (1, 4), (2, 5), (1, 6), (7, 8), (7, 9), (3, 7), (0, 1)])\n",
    "nx.draw(G)\n",
    "num = G.number_of_nodes()\n",
    "wij = []\n",
    "for i in range(0, num):\n",
    "    di = G.degree(i)\n",
    "    for j in range(0, num):\n",
    "        dj = G.degree(j)\n",
    "        greater = max(di, dj)\n",
    "        valueWij = 1 / greater\n",
    "        wij.append(valueWij)\n",
    "Wij = numpy.array(wij)\n",
    "Wij.shape = (10,10) \n",
    "print(\"The Values of Wij are: \\n\", Wij)\n",
    "#Wij[0,0]\n",
    "#print(wij)\n",
    "#print(len(wij))\n",
    "\n",
    "wii = []\n",
    "sumWij = 0.0\n",
    "for i in range(0, num):\n",
    "    for j in range(0, num):\n",
    "        if i != j:\n",
    "            sumWij = sumWij + Wij[i,j]\n",
    "    wii.append(1 - sumWij)\n",
    "wii\n",
    "Wii = numpy.array(wii)\n",
    "print(\"The Values of Wii are: \\n\", Wii)\n",
    "\n",
    "W = mat(diag(wii));\n",
    "print (\"The Premade Diagonal Matrix W is\\n\", W)\n",
    "\n",
    "shape = W.shape\n",
    "for x in range(0, shape[0]):\n",
    "    for y in range(0, shape[1]):\n",
    "        if W[x, y] == 0 and x != y:\n",
    "            W[x, y] = Wij[x, y]\n",
    "print (\"The Matrix W is\\n\", W)"
   ]
  },
  {
   "cell_type": "code",
   "execution_count": null,
   "metadata": {},
   "outputs": [],
   "source": []
  }
 ],
 "metadata": {
  "kernelspec": {
   "display_name": "Python 3",
   "language": "python",
   "name": "python3"
  },
  "language_info": {
   "codemirror_mode": {
    "name": "ipython",
    "version": 3
   },
   "file_extension": ".py",
   "mimetype": "text/x-python",
   "name": "python",
   "nbconvert_exporter": "python",
   "pygments_lexer": "ipython3",
   "version": "3.7.3"
  }
 },
 "nbformat": 4,
 "nbformat_minor": 2
}
